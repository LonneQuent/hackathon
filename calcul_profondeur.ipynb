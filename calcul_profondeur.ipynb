{
 "cells": [
  {
   "cell_type": "code",
   "execution_count": 2,
   "id": "84e98a97",
   "metadata": {},
   "outputs": [],
   "source": [
    "import pandas as pd"
   ]
  },
  {
   "cell_type": "code",
   "execution_count": 3,
   "id": "95b31dcf",
   "metadata": {},
   "outputs": [],
   "source": [
    "import numpy as np"
   ]
  },
  {
   "cell_type": "code",
   "execution_count": 4,
   "id": "e50c9a54",
   "metadata": {},
   "outputs": [],
   "source": [
    "import io"
   ]
  },
  {
   "cell_type": "code",
   "execution_count": 5,
   "id": "6a7b79f1",
   "metadata": {},
   "outputs": [],
   "source": [
    "import requests"
   ]
  },
  {
   "cell_type": "code",
   "execution_count": 12,
   "id": "31f6f551",
   "metadata": {},
   "outputs": [
    {
     "name": "stdout",
     "output_type": "stream",
     "text": [
      "            zone   latitude     depth    utotal    vtotal     utide     vtide\n",
      "0  Italie,Venise  45.083332  0.494025  0.033203  0.060547  0.016602  0.009766\n",
      "1    Japon,Iwaki  37.083332  0.494025  0.050781  0.030273  0.001953  0.012695\n"
     ]
    }
   ],
   "source": [
    "# Chemin du fichier CSV\n",
    "chemin_fichier = r\"C:\\Users\\BIRUSSAMA EL KANA\\Documents\\Hetic\\bdd.csv\"\n",
    "\n",
    "# Charger le fichier CSV dans un DataFrame\n",
    "try:\n",
    "    df = pd.read_csv(chemin_fichier)\n",
    "    # Afficher les premières lignes du DataFrame pour vérifier\n",
    "    print(df.head())\n",
    "except FileNotFoundError:\n",
    "    print(f\"Le fichier {chemin_fichier} n'a pas été trouvé.\")\n",
    "except Exception as e:\n",
    "    print(f\"Une erreur s'est produite : {e}\")"
   ]
  },
  {
   "cell_type": "code",
   "execution_count": 13,
   "id": "83bfb42a",
   "metadata": {},
   "outputs": [],
   "source": [
    "# Téléchargement du fichier csv depuis gi\n",
    "#response = requests.get(csv_url)\n",
    "data_csv = pd.read_csv(chemin_fichier)\n",
    "#print(data_csv.columns)"
   ]
  },
  {
   "cell_type": "code",
   "execution_count": 16,
   "id": "0f97ea1d",
   "metadata": {},
   "outputs": [
    {
     "name": "stdout",
     "output_type": "stream",
     "text": [
      "            zone   latitude     depth    utotal    vtotal     utide     vtide  \\\n",
      "0  Italie,Venise  45.083332  0.494025  0.033203  0.060547  0.016602  0.009766   \n",
      "1    Japon,Iwaki  37.083332  0.494025  0.050781  0.030273  0.001953  0.012695   \n",
      "\n",
      "   profondeur_maree                   message  \n",
      "0          0.529225               Tout est OK  \n",
      "1          0.535714  Seuil critique atteint !  \n"
     ]
    }
   ],
   "source": [
    "# calcul de la profondeur de la marée\n",
    "data_csv['profondeur_maree'] = data_csv['depth'] + data_csv['utotal'] * np.cos(np.radians(data_csv['latitude'])) + data_csv['utide'] * np.sin(np.radians(data_csv['latitude']))\n",
    "# seuil critique \n",
    "seuil_critique = 0.53\n",
    "# verifier si la profondeur de la marée est au dessus ou en dessous du seuil critique \n",
    "data_csv['message'] = np.where(data_csv['profondeur_maree'] > seuil_critique, 'Seuil critique atteint !', 'Tout est OK')\n",
    "\n",
    "#affichage du resultat \n",
    "\n",
    "print(data_csv)"
   ]
  },
  {
   "cell_type": "code",
   "execution_count": null,
   "id": "dc457fe1",
   "metadata": {},
   "outputs": [],
   "source": []
  }
 ],
 "metadata": {
  "kernelspec": {
   "display_name": "Python 3 (ipykernel)",
   "language": "python",
   "name": "python3"
  },
  "language_info": {
   "codemirror_mode": {
    "name": "ipython",
    "version": 3
   },
   "file_extension": ".py",
   "mimetype": "text/x-python",
   "name": "python",
   "nbconvert_exporter": "python",
   "pygments_lexer": "ipython3",
   "version": "3.9.13"
  }
 },
 "nbformat": 4,
 "nbformat_minor": 5
}
